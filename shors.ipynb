{
 "cells": [
  {
   "cell_type": "markdown",
   "metadata": {
    "id": "_uy-BGfaL_ne"
   },
   "source": [
    "# Shors Algorithm\n"
   ]
  },
  {
   "cell_type": "markdown",
   "metadata": {},
   "source": [
    "Shor's Algorithm is known for factoring numbers in polynomial time. Since RSA works on the principle that its impossible to factor large integers, this algorithm can be used to break RSA on a quantum computer given enough qubits to work on( which is still under development )"
   ]
  },
  {
   "cell_type": "markdown",
   "metadata": {},
   "source": [
    "An ideal Quantum computer with 4099 stable bits can break RSA within 10 seconds, but this is an ideal case and such a computer doesnt exist"
   ]
  },
  {
   "cell_type": "markdown",
   "metadata": {},
   "source": [
    "A paper published by Craig Gidney from Google and Martin Ekera from the Royal Institute of Technology showed that using 20 million noisy qubits, it would take upto 8 hours to crack RSA. In our current scenario the biggest quantum computer has only 72 qubits.\n",
    "So it is going to take another decade or maybe two decades to acheive that much computing power"
   ]
  },
  {
   "cell_type": "markdown",
   "metadata": {},
   "source": [
    "This notebook shows/ simulates the Shor's Algorithm for factoring 15"
   ]
  },
  {
   "cell_type": "markdown",
   "metadata": {},
   "source": [
    "The Algorithm works on the fact that factor finding problem can be made into a period finding problem and solve in polynomial time. A periodic function can be of the form:\n",
    "$$\n",
    "    a^{r} mod N = 1\n",
    "$$\n",
    "<br>\n",
    "where r is the period"
   ]
  },
  {
   "cell_type": "code",
   "execution_count": 1,
   "metadata": {},
   "outputs": [],
   "source": [
    "# Importing Modules\n",
    "\n",
    "import matplotlib.pyplot as plt\n",
    "import numpy as np\n",
    "from qiskit import QuantumCircuit, Aer, transpile, assemble\n",
    "from qiskit.visualization import plot_histogram\n",
    "from math import gcd\n",
    "from numpy.random import randint\n",
    "import pandas as pd\n",
    "from fractions import Fraction\n"
   ]
  },
  {
   "cell_type": "markdown",
   "metadata": {
    "id": "2_xu8P8yXJIG"
   },
   "source": [
    "The function c_amod15 returns us a controlled - U gate for value 'a', repeated _power_ times"
   ]
  },
  {
   "cell_type": "code",
   "execution_count": 2,
   "metadata": {
    "id": "esB5X3cdXJSQ"
   },
   "outputs": [],
   "source": [
    "def c_amod15(a, power):\n",
    "  if a not in [2,7,8,11,13]:\n",
    "    raise ValueError(\"test\")\n",
    "  U = QuantumCircuit(4)\n",
    "  for iteration in range(power):\n",
    "    if a in [2,13]:\n",
    "      U.swap(0,1)\n",
    "      U.swap(1,2)\n",
    "      U.swap(2,3)\n",
    "    if a in [7,8]:\n",
    "      U.swap(2,3)\n",
    "      U.swap(1,2)\n",
    "      U.swap(0,1)\n",
    "    \n",
    "    if a == 11:\n",
    "      U.swap(2,3)\n",
    "      U.swap(0,2)\n",
    "\n",
    "    if a in [7,11,13]:\n",
    "      for q in range(4):\n",
    "        U.x(q)\n",
    "  U = U.to_gate()\n",
    "  U.name = \"%i^%i mod 15\" %(a,power)\n",
    "  c_U = U.control()\n",
    "  return c_U"
   ]
  },
  {
   "cell_type": "markdown",
   "metadata": {
    "id": "p5heN-FSXJU4"
   },
   "source": [
    "#### Setting the number of counting qubits and setting value of a\n"
   ]
  },
  {
   "cell_type": "code",
   "execution_count": 4,
   "metadata": {
    "id": "9VcmYhV1XJXK"
   },
   "outputs": [],
   "source": [
    "n_count = 8\n",
    "a = 7"
   ]
  },
  {
   "cell_type": "markdown",
   "metadata": {
    "id": "ihPVKgPn1ihl"
   },
   "source": [
    "## Fourier transform function"
   ]
  },
  {
   "cell_type": "code",
   "execution_count": 6,
   "metadata": {
    "id": "oYoysxX31ikS"
   },
   "outputs": [],
   "source": [
    "def qft_dagger(n):\n",
    "  qc = QuantumCircuit(n)\n",
    "\n",
    "  for qubit in range(n//2):\n",
    "    qc.swap(qubit, n-qubit-1)\n",
    "  \n",
    "  for j in range(n):\n",
    "    for m in range(j):\n",
    "      qc.cp(-np.pi/float(2**(j-m)),m,j)\n",
    "    qc.h(j)\n",
    "  qc.name = \"QFT\"\n",
    "  return qc"
   ]
  },
  {
   "cell_type": "markdown",
   "metadata": {
    "id": "n1lhmUbk2Iix"
   },
   "source": [
    "## Drawing the Quantum circuit"
   ]
  },
  {
   "cell_type": "code",
   "execution_count": 7,
   "metadata": {
    "id": "_9mEUkKV2IlT"
   },
   "outputs": [
    {
     "data": {
      "text/html": [
       "<pre style=\"word-wrap: normal;white-space: pre;background: #fff0;line-height: 1.1;font-family: &quot;Courier New&quot;,Courier,monospace\">      ┌───┐                                                                                                                             ┌──────┐┌─┐                     \n",
       " q_0: ┤ H ├───────■─────────────────────────────────────────────────────────────────────────────────────────────────────────────────────┤0     ├┤M├─────────────────────\n",
       "      ├───┤       │                                                                                                                     │      │└╥┘┌─┐                  \n",
       " q_1: ┤ H ├───────┼──────────────■──────────────────────────────────────────────────────────────────────────────────────────────────────┤1     ├─╫─┤M├──────────────────\n",
       "      ├───┤       │              │                                                                                                      │      │ ║ └╥┘┌─┐               \n",
       " q_2: ┤ H ├───────┼──────────────┼──────────────■───────────────────────────────────────────────────────────────────────────────────────┤2     ├─╫──╫─┤M├───────────────\n",
       "      ├───┤       │              │              │                                                                                       │      │ ║  ║ └╥┘┌─┐            \n",
       " q_3: ┤ H ├───────┼──────────────┼──────────────┼──────────────■────────────────────────────────────────────────────────────────────────┤3     ├─╫──╫──╫─┤M├────────────\n",
       "      ├───┤       │              │              │              │                                                                        │  QFT │ ║  ║  ║ └╥┘┌─┐         \n",
       " q_4: ┤ H ├───────┼──────────────┼──────────────┼──────────────┼──────────────■─────────────────────────────────────────────────────────┤4     ├─╫──╫──╫──╫─┤M├─────────\n",
       "      ├───┤       │              │              │              │              │                                                         │      │ ║  ║  ║  ║ └╥┘┌─┐      \n",
       " q_5: ┤ H ├───────┼──────────────┼──────────────┼──────────────┼──────────────┼───────────────■─────────────────────────────────────────┤5     ├─╫──╫──╫──╫──╫─┤M├──────\n",
       "      ├───┤       │              │              │              │              │               │                                         │      │ ║  ║  ║  ║  ║ └╥┘┌─┐   \n",
       " q_6: ┤ H ├───────┼──────────────┼──────────────┼──────────────┼──────────────┼───────────────┼───────────────■─────────────────────────┤6     ├─╫──╫──╫──╫──╫──╫─┤M├───\n",
       "      ├───┤       │              │              │              │              │               │               │                         │      │ ║  ║  ║  ║  ║  ║ └╥┘┌─┐\n",
       " q_7: ┤ H ├───────┼──────────────┼──────────────┼──────────────┼──────────────┼───────────────┼───────────────┼────────────────■────────┤7     ├─╫──╫──╫──╫──╫──╫──╫─┤M├\n",
       "      └───┘┌──────┴──────┐┌──────┴──────┐┌──────┴──────┐┌──────┴──────┐┌──────┴───────┐┌──────┴───────┐┌──────┴───────┐┌───────┴───────┐└──────┘ ║  ║  ║  ║  ║  ║  ║ └╥┘\n",
       " q_8: ─────┤0            ├┤0            ├┤0            ├┤0            ├┤0             ├┤0             ├┤0             ├┤0              ├─────────╫──╫──╫──╫──╫──╫──╫──╫─\n",
       "           │             ││             ││             ││             ││              ││              ││              ││               │         ║  ║  ║  ║  ║  ║  ║  ║ \n",
       " q_9: ─────┤1            ├┤1            ├┤1            ├┤1            ├┤1             ├┤1             ├┤1             ├┤1              ├─────────╫──╫──╫──╫──╫──╫──╫──╫─\n",
       "           │  7^1 mod 15 ││  7^2 mod 15 ││  7^4 mod 15 ││  7^8 mod 15 ││  7^16 mod 15 ││  7^32 mod 15 ││  7^64 mod 15 ││  7^128 mod 15 │         ║  ║  ║  ║  ║  ║  ║  ║ \n",
       "q_10: ─────┤2            ├┤2            ├┤2            ├┤2            ├┤2             ├┤2             ├┤2             ├┤2              ├─────────╫──╫──╫──╫──╫──╫──╫──╫─\n",
       "      ┌───┐│             ││             ││             ││             ││              ││              ││              ││               │         ║  ║  ║  ║  ║  ║  ║  ║ \n",
       "q_11: ┤ X ├┤3            ├┤3            ├┤3            ├┤3            ├┤3             ├┤3             ├┤3             ├┤3              ├─────────╫──╫──╫──╫──╫──╫──╫──╫─\n",
       "      └───┘└─────────────┘└─────────────┘└─────────────┘└─────────────┘└──────────────┘└──────────────┘└──────────────┘└───────────────┘         ║  ║  ║  ║  ║  ║  ║  ║ \n",
       " c: 8/═══════════════════════════════════════════════════════════════════════════════════════════════════════════════════════════════════════════╩══╩══╩══╩══╩══╩══╩══╩═\n",
       "                                                                                                                                                 0  1  2  3  4  5  6  7 </pre>"
      ],
      "text/plain": [
       "      ┌───┐                                                                                                                             ┌──────┐┌─┐                     \n",
       " q_0: ┤ H ├───────■─────────────────────────────────────────────────────────────────────────────────────────────────────────────────────┤0     ├┤M├─────────────────────\n",
       "      ├───┤       │                                                                                                                     │      │└╥┘┌─┐                  \n",
       " q_1: ┤ H ├───────┼──────────────■──────────────────────────────────────────────────────────────────────────────────────────────────────┤1     ├─╫─┤M├──────────────────\n",
       "      ├───┤       │              │                                                                                                      │      │ ║ └╥┘┌─┐               \n",
       " q_2: ┤ H ├───────┼──────────────┼──────────────■───────────────────────────────────────────────────────────────────────────────────────┤2     ├─╫──╫─┤M├───────────────\n",
       "      ├───┤       │              │              │                                                                                       │      │ ║  ║ └╥┘┌─┐            \n",
       " q_3: ┤ H ├───────┼──────────────┼──────────────┼──────────────■────────────────────────────────────────────────────────────────────────┤3     ├─╫──╫──╫─┤M├────────────\n",
       "      ├───┤       │              │              │              │                                                                        │  QFT │ ║  ║  ║ └╥┘┌─┐         \n",
       " q_4: ┤ H ├───────┼──────────────┼──────────────┼──────────────┼──────────────■─────────────────────────────────────────────────────────┤4     ├─╫──╫──╫──╫─┤M├─────────\n",
       "      ├───┤       │              │              │              │              │                                                         │      │ ║  ║  ║  ║ └╥┘┌─┐      \n",
       " q_5: ┤ H ├───────┼──────────────┼──────────────┼──────────────┼──────────────┼───────────────■─────────────────────────────────────────┤5     ├─╫──╫──╫──╫──╫─┤M├──────\n",
       "      ├───┤       │              │              │              │              │               │                                         │      │ ║  ║  ║  ║  ║ └╥┘┌─┐   \n",
       " q_6: ┤ H ├───────┼──────────────┼──────────────┼──────────────┼──────────────┼───────────────┼───────────────■─────────────────────────┤6     ├─╫──╫──╫──╫──╫──╫─┤M├───\n",
       "      ├───┤       │              │              │              │              │               │               │                         │      │ ║  ║  ║  ║  ║  ║ └╥┘┌─┐\n",
       " q_7: ┤ H ├───────┼──────────────┼──────────────┼──────────────┼──────────────┼───────────────┼───────────────┼────────────────■────────┤7     ├─╫──╫──╫──╫──╫──╫──╫─┤M├\n",
       "      └───┘┌──────┴──────┐┌──────┴──────┐┌──────┴──────┐┌──────┴──────┐┌──────┴───────┐┌──────┴───────┐┌──────┴───────┐┌───────┴───────┐└──────┘ ║  ║  ║  ║  ║  ║  ║ └╥┘\n",
       " q_8: ─────┤0            ├┤0            ├┤0            ├┤0            ├┤0             ├┤0             ├┤0             ├┤0              ├─────────╫──╫──╫──╫──╫──╫──╫──╫─\n",
       "           │             ││             ││             ││             ││              ││              ││              ││               │         ║  ║  ║  ║  ║  ║  ║  ║ \n",
       " q_9: ─────┤1            ├┤1            ├┤1            ├┤1            ├┤1             ├┤1             ├┤1             ├┤1              ├─────────╫──╫──╫──╫──╫──╫──╫──╫─\n",
       "           │  7^1 mod 15 ││  7^2 mod 15 ││  7^4 mod 15 ││  7^8 mod 15 ││  7^16 mod 15 ││  7^32 mod 15 ││  7^64 mod 15 ││  7^128 mod 15 │         ║  ║  ║  ║  ║  ║  ║  ║ \n",
       "q_10: ─────┤2            ├┤2            ├┤2            ├┤2            ├┤2             ├┤2             ├┤2             ├┤2              ├─────────╫──╫──╫──╫──╫──╫──╫──╫─\n",
       "      ┌───┐│             ││             ││             ││             ││              ││              ││              ││               │         ║  ║  ║  ║  ║  ║  ║  ║ \n",
       "q_11: ┤ X ├┤3            ├┤3            ├┤3            ├┤3            ├┤3             ├┤3             ├┤3             ├┤3              ├─────────╫──╫──╫──╫──╫──╫──╫──╫─\n",
       "      └───┘└─────────────┘└─────────────┘└─────────────┘└─────────────┘└──────────────┘└──────────────┘└──────────────┘└───────────────┘         ║  ║  ║  ║  ║  ║  ║  ║ \n",
       " c: 8/═══════════════════════════════════════════════════════════════════════════════════════════════════════════════════════════════════════════╩══╩══╩══╩══╩══╩══╩══╩═\n",
       "                                                                                                                                                 0  1  2  3  4  5  6  7 "
      ]
     },
     "execution_count": 7,
     "metadata": {},
     "output_type": "execute_result"
    }
   ],
   "source": [
    "qc = QuantumCircuit(n_count+4, n_count)\n",
    "\n",
    "for q in range(n_count):\n",
    "  qc.h(q)\n",
    "\n",
    "qc.x(3+n_count)\n",
    "\n",
    "\n",
    "for q in range(n_count):\n",
    "  qc.append(c_amod15(a,2**q), [q] + [i+n_count for i in range(4)])\n",
    "\n",
    "\n",
    "\n",
    "qc.append(qft_dagger(n_count), range(n_count))\n",
    "\n",
    "\n",
    "qc.measure(range(n_count), range(n_count))\n",
    "\n",
    "qc.draw(fold = -1)"
   ]
  },
  {
   "cell_type": "markdown",
   "metadata": {
    "id": "wrd5aecT2Ipz"
   },
   "source": [
    "### Measuring Results from classical register"
   ]
  },
  {
   "cell_type": "code",
   "execution_count": 8,
   "metadata": {
    "id": "q5aTzUPM2IsI"
   },
   "outputs": [
    {
     "data": {
      "image/png": "[encoded data removed]",
      "text/plain": [
       "<Figure size 504x360 with 1 Axes>"
      ]
     },
     "execution_count": 8,
     "metadata": {},
     "output_type": "execute_result"
    }
   ],
   "source": [
    "aer_sim = Aer.get_backend('aer_simulator')\n",
    "t_qc = transpile(qc,aer_sim)\n",
    "q_obj = assemble(t_qc)\n",
    "\n",
    "results = aer_sim.run(q_obj).result()\n",
    "counts = results.get_counts()\n",
    "plot_histogram(counts)"
   ]
  },
  {
   "cell_type": "markdown",
   "metadata": {
    "id": "O0e3HqpuiP8S"
   },
   "source": [
    "Since the measured values are in binary, we convert to decimal values and also find the corresponding phases"
   ]
  },
  {
   "cell_type": "code",
   "execution_count": 9,
   "metadata": {
    "id": "bOQBbbGKiP-f"
   },
   "outputs": [
    {
     "name": "stdout",
     "output_type": "stream",
     "text": [
      "            Register Output           Phase\n",
      "0  01000000(bin) =  64(dec)   64/256 = 0.25\n",
      "1  11000000(bin) = 192(dec)  192/256 = 0.75\n",
      "2  00000000(bin) =   0(dec)    0/256 = 0.00\n",
      "3  10000000(bin) = 128(dec)  128/256 = 0.50\n"
     ]
    }
   ],
   "source": [
    "rows, measured_phases = [], []\n",
    "\n",
    "for output in counts:\n",
    "  decimal = int(output, 2)\n",
    "  phase = decimal/(2**n_count)\n",
    "  measured_phases.append(phase)\n",
    "\n",
    "\n",
    "  rows.append([f\"{output}(bin) = {decimal:>3}(dec)\",\n",
    "               f\"{decimal}/{2**n_count} = {phase:.2f}\"])\n",
    "  \n",
    "headers = [\"Register Output\", \"Phase\"]\n",
    "df = pd.DataFrame(rows, columns = headers)\n",
    "print(df)"
   ]
  },
  {
   "cell_type": "markdown",
   "metadata": {
    "id": "UZUAlp5AomEZ"
   },
   "source": [
    "Phases are of the form s/r where s is a value between 0 and r-1, where r is the period.\n",
    "Using the Fraction module, we obtain values s and r values for each of phase values."
   ]
  },
  {
   "cell_type": "code",
   "execution_count": 10,
   "metadata": {
    "id": "LGEyySZUomJZ"
   },
   "outputs": [
    {
     "name": "stdout",
     "output_type": "stream",
     "text": [
      "   Phase Fraction  Guess for r\n",
      "0   0.25      1/4            4\n",
      "1   0.75      3/4            4\n",
      "2   0.00      0/1            1\n",
      "3   0.50      1/2            2\n"
     ]
    }
   ],
   "source": [
    "rows = []\n",
    "for phase in measured_phases:\n",
    "  frac = Fraction(phase).limit_denominator(15) # denominator cant be greater than the number itself\n",
    "  rows.append([phase, f\"{frac.numerator}/{frac.denominator}\",frac.denominator])\n",
    "\n",
    "headers = [\"Phase\", \"Fraction\", \"Guess for r\"]\n",
    "df = pd.DataFrame(rows, columns = headers)\n",
    "print(df)"
   ]
  },
  {
   "cell_type": "markdown",
   "metadata": {
    "id": "resV-C7FUeVL"
   },
   "source": [
    "## Factoring from period finding"
   ]
  },
  {
   "cell_type": "code",
   "execution_count": 12,
   "metadata": {
    "id": "SFfFpCf0UeX4"
   },
   "outputs": [
    {
     "name": "stdout",
     "output_type": "stream",
     "text": [
      "7\n"
     ]
    }
   ],
   "source": [
    "#test number to be factored\n",
    "N = 15\n",
    "\n",
    "np.random.seed(1)\n",
    "a = randint(2,15)\n",
    "print(a)\n",
    "\n"
   ]
  },
  {
   "cell_type": "markdown",
   "metadata": {
    "id": "c8b2uRlpU2PL"
   },
   "source": [
    "Checking if there exists a non-trivial factor between a and N"
   ]
  },
  {
   "cell_type": "code",
   "execution_count": 13,
   "metadata": {
    "id": "OMO_NkHFU2TR"
   },
   "outputs": [
    {
     "data": {
      "text/plain": [
       "1"
      ]
     },
     "execution_count": 13,
     "metadata": {},
     "output_type": "execute_result"
    }
   ],
   "source": [
    "from math import gcd\n",
    "gcd(a,N)"
   ]
  },
  {
   "cell_type": "markdown",
   "metadata": {
    "id": "uU7u4ig8U9B7"
   },
   "source": [
    "## Function which compiles all the previous findings into one"
   ]
  },
  {
   "cell_type": "code",
   "execution_count": 14,
   "metadata": {
    "id": "hfDs_IItU9Ev"
   },
   "outputs": [],
   "source": [
    "def qpe_mod15(a):\n",
    "  n_count = 8\n",
    "  qc = QuantumCircuit(4+n_count, n_count)\n",
    "  for q in range(n_count):\n",
    "    qc.h(q)\n",
    "  \n",
    "  qc.x(3+n_count)\n",
    "  for q in range(n_count):\n",
    "    qc.append(c_amod15(a,2**q),[q]+[i+n_count for i in range(4)])\n",
    "  \n",
    "  qc.append(qft_dagger(n_count), range(n_count))\n",
    "  qc.measure(range(n_count), range(n_count))\n",
    "\n",
    "\n",
    "  aer_sim = Aer.get_backend('aer_simulator')\n",
    "\n",
    "  t_qc = transpile(qc, aer_sim)\n",
    "  q_obj = assemble(t_qc, shots = 1)\n",
    "  result = aer_sim.run(q_obj, memory = True).result()\n",
    "\n",
    "  readings = result.get_memory()\n",
    "  print(\"Register Reading: \"+readings[0])\n",
    "\n",
    "  phase = int(readings[0],2)/(2**n_count)\n",
    "  print(\"Corresponding phase: %f\" % phase)\n",
    "  return phase"
   ]
  },
  {
   "cell_type": "markdown",
   "metadata": {
    "id": "egJF5OQyU9G_"
   },
   "source": [
    "Getting the phase output and the fraction s/r"
   ]
  },
  {
   "cell_type": "code",
   "execution_count": 15,
   "metadata": {
    "id": "QmvT1apZU9JI"
   },
   "outputs": [
    {
     "name": "stdout",
     "output_type": "stream",
     "text": [
      "Register Reading: 01000000\n",
      "Corresponding phase: 0.250000\n"
     ]
    },
    {
     "data": {
      "text/plain": [
       "Fraction(1, 4)"
      ]
     },
     "execution_count": 15,
     "metadata": {},
     "output_type": "execute_result"
    }
   ],
   "source": [
    "phase = qpe_mod15(a)\n",
    "Fraction(phase).limit_denominator(15)"
   ]
  },
  {
   "cell_type": "code",
   "execution_count": 20,
   "metadata": {
    "id": "8FTdst10b_pj"
   },
   "outputs": [
    {
     "name": "stdout",
     "output_type": "stream",
     "text": [
      "Test 4\n"
     ]
    }
   ],
   "source": [
    "frac = Fraction(phase).limit_denominator(15)\n",
    "s, r = frac.numerator, frac.denominator\n",
    "print(\"r = %i\" %r)"
   ]
  },
  {
   "cell_type": "markdown",
   "metadata": {
    "id": "Ftf8TMS_b-kc"
   },
   "source": [
    "Now using r, we can find the two factors. We know that <br>\n",
    "\n",
    "   $$\n",
    "       a^{r}  mod  N = 1 \n",
    "   $$<br> \n",
    "then:\n",
    "\n",
    "<br>\n",
    "$$\n",
    "    a^{r} - 1 mod N = 0\n",
    "$$\n",
    "\n",
    "\n",
    "if r is even we can rewrite this as \n",
    "<br>\n",
    "$$\n",
    "    a^{r} - 1 = (a^{r/2} - 1)(a^{r/2} + 1)\n",
    "$$\n"
   ]
  },
  {
   "cell_type": "markdown",
   "metadata": {},
   "source": [
    "Then there is very good possibility that a GCD of $a^{r/2} - 1$ and N , is also a factor of N"
   ]
  },
  {
   "cell_type": "code",
   "execution_count": 17,
   "metadata": {
    "id": "LI_17chfb-hy"
   },
   "outputs": [
    {
     "name": "stdout",
     "output_type": "stream",
     "text": [
      "[3, 5]\n"
     ]
    }
   ],
   "source": [
    "guesses = [gcd(a**(r//2) -1,N),gcd(a**(r//2)+1,N)]\n",
    "print(guesses)"
   ]
  },
  {
   "cell_type": "markdown",
   "metadata": {
    "id": "HOgXflZ1b-fc"
   },
   "source": [
    "### Final code"
   ]
  },
  {
   "cell_type": "code",
   "execution_count": 22,
   "metadata": {
    "id": "i7JErv6Xcnkj"
   },
   "outputs": [
    {
     "name": "stdout",
     "output_type": "stream",
     "text": [
      "\n",
      "Attempt 1: \n",
      "Register Reading: 01000000\n",
      "Corresponding phase: 0.250000\n",
      "Result: r = 4\n",
      "Non trivial factor : 3\n",
      "Non trivial factor : 5\n"
     ]
    }
   ],
   "source": [
    "a = 7\n",
    "factor_found = False\n",
    "attempt = 0\n",
    "\n",
    "while not factor_found:\n",
    "  attempt += 1\n",
    "  print(\"\\nAttempt %i: \"%attempt)\n",
    "  phase = qpe_mod15(a)\n",
    "  frac = Fraction(phase).limit_denominator(N)\n",
    "  r = frac.denominator\n",
    "  print(\"Result: r = %i\" % r)\n",
    "\n",
    "  if phase != 0:\n",
    "    guesses = [gcd(a**(r//2) -1,N),gcd(a**(r//2)+1,N)]\n",
    "    for guess in guesses:\n",
    "      if guess not in [1,N] and (N % guess) == 0:\n",
    "        print(\"Non trivial factor : %i\" % guess)\n",
    "        factor_found = True"
   ]
  },
  {
   "cell_type": "code",
   "execution_count": null,
   "metadata": {},
   "outputs": [],
   "source": []
  }
 ],
 "metadata": {
  "colab": {
   "collapsed_sections": [],
   "name": "Untitled6.ipynb",
   "provenance": []
  },
  "kernelspec": {
   "display_name": "Python 3",
   "language": "python",
   "name": "python3"
  },
  "language_info": {
   "codemirror_mode": {
    "name": "ipython",
    "version": 3
   },
   "file_extension": ".py",
   "mimetype": "text/x-python",
   "name": "python",
   "nbconvert_exporter": "python",
   "pygments_lexer": "ipython3",
   "version": "3.8.3"
  }
 },
 "nbformat": 4,
 "nbformat_minor": 1
}
